{
 "cells": [
  {
   "cell_type": "code",
   "execution_count": 1,
   "metadata": {
    "collapsed": true,
    "ExecuteTime": {
     "end_time": "2024-02-09T22:11:15.667851500Z",
     "start_time": "2024-02-09T22:11:14.892460700Z"
    }
   },
   "outputs": [],
   "source": [
    "import time\n",
    "from openpyxl import load_workbook\n",
    "import os\n",
    "import pandas as pd\n",
    "from selenium import webdriver\n",
    "from webdriver_manager.chrome import ChromeDriverManager\n",
    "from selenium.webdriver.chrome.service import Service\n",
    "from selenium.webdriver.chrome.options import Options\n",
    "from selenium.webdriver.support.ui import WebDriverWait\n",
    "from selenium.webdriver.support import expected_conditions as EC\n",
    "from selenium.webdriver.common.by import By\n",
    "from selenium.common.exceptions import TimeoutException,StaleElementReferenceException, NoSuchElementException"
   ]
  },
  {
   "cell_type": "code",
   "execution_count": 2,
   "outputs": [],
   "source": [
    "def wdinit(obs='1'):\n",
    "    Chrome_options = Options()\n",
    "    not_windowed = False\n",
    "    if obs == 'OFF' or obs == 0:\n",
    "        Chrome_options.add_argument('--headless')\n",
    "        Chrome_options.add_argument('--disable-gpu')\n",
    "        not_windowed = True\n",
    "    Chrome_options.add_argument(\"--disable-infobars\")\n",
    "    Chrome_options.add_argument(\"--incognito\")\n",
    "    Chrome_options.add_argument(\"--start-maximized\")\n",
    "    Chrome_options.add_experimental_option(\"prefs\", {\n",
    "        \"safe browsing.enabled\": True\n",
    "    })\n",
    "\n",
    "    driver = webdriver.Chrome(service=Service(ChromeDriverManager().install()), options=Chrome_options)\n",
    "    if not_windowed == True:\n",
    "        print('WebDriver initiate successfully in Headless mode')\n",
    "    else:\n",
    "        print('WebDriver initiate successfully in Window mode')\n",
    "    return driver"
   ],
   "metadata": {
    "collapsed": false,
    "ExecuteTime": {
     "end_time": "2024-02-09T22:11:15.675419700Z",
     "start_time": "2024-02-09T22:11:15.671857500Z"
    }
   }
  },
  {
   "cell_type": "code",
   "execution_count": 3,
   "outputs": [],
   "source": [
    "def login(driver, username, password, website = 'https://www.instagram.com/'):\n",
    "    driver.get(website)\n",
    "\n",
    "    try:\n",
    "        username_box = WebDriverWait(driver, 10).until(\n",
    "            EC.presence_of_element_located((By.CSS_SELECTOR, \"input[name='username']\"))\n",
    "        )\n",
    "        password_box = driver.find_element(By.CSS_SELECTOR, \"input[name='password']\")\n",
    "        username_box.clear()\n",
    "        password_box.clear()\n",
    "        username_box.send_keys(username)\n",
    "        password_box.send_keys(password)\n",
    "\n",
    "        driver.find_element(By.CSS_SELECTOR, \"button[type='submit']\").submit()\n",
    "        print(\"Login Successfully\")\n",
    "\n",
    "        time.sleep(2)\n",
    "\n",
    "        try:\n",
    "            WebDriverWait(driver, 10).until(EC.presence_of_element_located((By.CSS_SELECTOR, 'div._ac8f'))).click()\n",
    "            print(\"Login Info Save Notification Found and click on Not Now\")\n",
    "        except (TimeoutException, NoSuchElementException):\n",
    "            print(\"No Login Info Save Notification Found\")\n",
    "\n",
    "        time.sleep(2)\n",
    "\n",
    "        try:\n",
    "            WebDriverWait(driver, 10).until(EC.presence_of_element_located((By.CSS_SELECTOR, 'button._a9_1'))).click()\n",
    "            print(\"Notification Found and click on Not Now\")\n",
    "        except (TimeoutException, NoSuchElementException):\n",
    "            print(\"No Turn On Notification Found\")\n",
    "\n",
    "    except TimeoutException:\n",
    "        print(\"Already logged in\")"
   ],
   "metadata": {
    "collapsed": false,
    "ExecuteTime": {
     "end_time": "2024-02-09T22:11:15.685716900Z",
     "start_time": "2024-02-09T22:11:15.679424300Z"
    }
   }
  },
  {
   "cell_type": "code",
   "execution_count": 4,
   "outputs": [],
   "source": [
    "def searchnfill(driver, fill=\"\"):\n",
    "    try:\n",
    "        driver.find_element(By.CSS_SELECTOR, 'svg[aria-label=\"Close').click()\n",
    "    except NoSuchElementException:\n",
    "        pass\n",
    "    try:\n",
    "        search_bar = WebDriverWait(driver, 10).until(EC.presence_of_element_located((By.CSS_SELECTOR, \"input[aria-label='Search input']\")))\n",
    "    except (NoSuchElementException, TimeoutException):\n",
    "        search_button = driver.find_element(By.CSS_SELECTOR, \"svg[aria-label='Search']\")\n",
    "        search_button.click()\n",
    "        search_bar = WebDriverWait(driver, 10).until(EC.presence_of_element_located((By.CSS_SELECTOR, \"input[aria-label='Search input']\")))\n",
    "    finally:\n",
    "        search_bar.clear()\n",
    "        search_bar.send_keys(fill)\n",
    "        time.sleep(1)\n",
    "\n",
    "def searchresult(driver, searchKeyword):\n",
    "    searchnfill(driver, searchKeyword)\n",
    "    profilelist = list()\n",
    "    for _ in range(3):\n",
    "        try:\n",
    "            profileelement = WebDriverWait(driver, 10).until(EC.presence_of_element_located((By.CSS_SELECTOR, \"div.xocp1fn\")))\n",
    "            WebDriverWait(profileelement, 10).until(EC.presence_of_all_elements_located((By.XPATH, \"./a\")))\n",
    "            profilelist = profileelement.find_elements(By.XPATH, \"./a\")\n",
    "            break\n",
    "        except (StaleElementReferenceException, NoSuchElementException, TimeoutException):\n",
    "            time.sleep(1)\n",
    "    profile_searched = len(profilelist)\n",
    "    return profilelist, profile_searched"
   ],
   "metadata": {
    "collapsed": false,
    "ExecuteTime": {
     "end_time": "2024-02-09T22:11:15.694023900Z",
     "start_time": "2024-02-09T22:11:15.687718200Z"
    }
   }
  },
  {
   "cell_type": "code",
   "execution_count": 5,
   "outputs": [],
   "source": [
    "# Function to Search & Open Profile\n",
    "def openprofile(driver, profilename):\n",
    "    profilelist, total_profile = searchresult(driver, profilename)\n",
    "    if len(profilelist)>0:\n",
    "        if total_profile>0:\n",
    "            for i in profilelist:\n",
    "                spantag = i.find_elements(By.XPATH, './div/div/div/div[2]/div/div/span')\n",
    "                l = len(spantag)\n",
    "                if l == 1:\n",
    "                    userid = i.find_element(By.XPATH, './div/div/div/div[2]/div/div/div/span').text\n",
    "                    username = i.find_element(By.XPATH, './div/div/div/div[2]/div/div/span/span').text\n",
    "                elif l == 2:\n",
    "                    userid = i.find_element(By.XPATH, './div/div/div/div[2]/div/div/span[1]/span').text\n",
    "                    username = \"tag\"\n",
    "                if userid == profilename or username.startswith(profilename):\n",
    "                    found_profile = i.find_element(By.XPATH, './div')\n",
    "                    found_profile.click()\n",
    "                    status = True\n",
    "                    break\n",
    "                else:\n",
    "                    status = False\n",
    "            driver.find_element(By.CSS_SELECTOR, \"svg[aria-label='Search']\").click()\n",
    "        else:\n",
    "            status = False\n",
    "        time.sleep(1)\n",
    "        return status, userid, username\n",
    "    else:\n",
    "        status = False\n",
    "        username = None\n",
    "        userid = None\n",
    "        # print(userid,username)\n",
    "        return status, userid, username"
   ],
   "metadata": {
    "collapsed": false,
    "ExecuteTime": {
     "end_time": "2024-02-09T22:11:15.740292400Z",
     "start_time": "2024-02-09T22:11:15.694023900Z"
    }
   }
  },
  {
   "cell_type": "code",
   "execution_count": 6,
   "outputs": [],
   "source": [
    "def post_info(driver, user_id, post_df, no_of_post = 2, total_post=0):\n",
    "    post_element = driver.find_elements(By.CSS_SELECTOR, 'div._aabd')\n",
    "    loop = min(total_post,no_of_post)\n",
    "    while len(post_element)<=loop:\n",
    "        driver.execute_script('window.scrollBy(0, 500);')\n",
    "        post_element = driver.find_elements(By.CSS_SELECTOR, 'div._aabd')\n",
    "    count = 1\n",
    "    for i in post_element:\n",
    "        post_url = caption = like_count = post_date = tagged_person = None\n",
    "        if count == no_of_post+1:\n",
    "            break\n",
    "        for _ in range(3):\n",
    "            try:\n",
    "                post_url = i.find_element(By.XPATH,'./a').get_attribute('href')\n",
    "                break\n",
    "            except NoSuchElementException:\n",
    "                pass\n",
    "        i.click()\n",
    "        time.sleep(1)\n",
    "        for _ in range(3):\n",
    "            try:\n",
    "                caption_element = driver.find_element(By.CLASS_NAME, \"_a9zn\").find_element(By.CSS_SELECTOR, 'h1._ap3a')\n",
    "                caption = caption_element.text\n",
    "                break\n",
    "            except NoSuchElementException:\n",
    "                pass\n",
    "        if caption is not None :\n",
    "            captions_lines = caption.splitlines()\n",
    "            captions = [line for line in captions_lines if line.strip() != '']\n",
    "            caption = '\\n'.join(captions)\n",
    "        for _ in range(3):\n",
    "            try:\n",
    "                like_count_element = driver.find_element(By.CLASS_NAME, \"_ae2s\").find_element(By.XPATH,'./section[2]/div/div/span/a/span/span')\n",
    "                like_count = int(like_count_element.text.replace(\",\",\"\"))\n",
    "                break\n",
    "            except NoSuchElementException:\n",
    "                pass\n",
    "        for _ in range(3):\n",
    "            try:\n",
    "                post_date_element = driver.find_element(By.CLASS_NAME, \"_ae2s\").find_element(By.XPATH,'./div[2]/div/div/a/span/time')\n",
    "                post_date = post_date_element.get_attribute('title')\n",
    "                break\n",
    "            except NoSuchElementException:\n",
    "                pass\n",
    "        if caption is not None :\n",
    "            words = caption.split()\n",
    "            tagged_list = [word for word in words if word.startswith('@')]\n",
    "            if len(tagged_list) > 0:\n",
    "                tagged_person = ', '.join(tagged_list)\n",
    "        time.sleep(1)\n",
    "        post_df.loc[len(post_df)] = [user_id, post_url, caption, like_count, post_date, tagged_person]\n",
    "        count+=1\n",
    "        try:\n",
    "            post_close_element = WebDriverWait(driver, 10).until(EC.presence_of_element_located((By.CSS_SELECTOR, 'svg[aria-label=\"Close\"]')))\n",
    "            post_close_element.click()\n",
    "        except (NoSuchElementException,TimeoutException):\n",
    "            pass\n",
    "    # print(post_url)\n",
    "    # print(caption)\n",
    "    # print(like_count)\n",
    "    # print(post_date)\n",
    "    # print(tagged_person)\n",
    "    return post_df"
   ],
   "metadata": {
    "collapsed": false,
    "ExecuteTime": {
     "end_time": "2024-02-09T22:11:15.741294300Z",
     "start_time": "2024-02-09T22:11:15.707496700Z"
    }
   }
  },
  {
   "cell_type": "code",
   "execution_count": 7,
   "outputs": [],
   "source": [
    "def info(driver, profilename, no_of_posts):\n",
    "    profiles_df = pd.DataFrame(columns=['UserID', 'UserName', 'Bio', 'Public-Private', 'TotalPost', 'TotalFollowers', 'TotalFollowings', 'Verified'])\n",
    "    post_df = pd.DataFrame(columns=['UserID', 'Post_URL', 'Caption', 'Like_Count','Post_Dated', 'All_Tagged'])\n",
    "    for i in profilename:\n",
    "        status, userid, username = openprofile(driver, i)\n",
    "        confirm_userid = confirm_username = bio = pub_pri =  total_post = total_followers = total_followings = verified = None\n",
    "        time.sleep(2)\n",
    "        driver.refresh()\n",
    "        if status == True:\n",
    "            print(f\"'{i}' is Found Successfully\", end=\" \")\n",
    "            for _ in range(3):\n",
    "                try:\n",
    "                    userid_element = WebDriverWait(driver, 20).until(EC.visibility_of_element_located((By.CSS_SELECTOR, 'h2.x1lliihq')))\n",
    "                    confirm_userid = userid_element.text\n",
    "                    break\n",
    "                except (NoSuchElementException, TimeoutException) :\n",
    "                    pass\n",
    "            for _ in range(3):\n",
    "                try:\n",
    "                    username_element = WebDriverWait(driver, 10).until(EC.presence_of_element_located((By.CSS_SELECTOR, 'div._aa_y')))\n",
    "                    confirm_username = username_element.find_element(By.XPATH, './header/section/div[3]/div/span').text\n",
    "                    break\n",
    "                except (NoSuchElementException, TimeoutException) :\n",
    "                    pass\n",
    "            for _ in range(2):\n",
    "                try:\n",
    "                    verified_element = WebDriverWait(driver, 10).until(EC.presence_of_element_located((By.CSS_SELECTOR, 'svg[aria-label=\"Verified\"]')))\n",
    "                    verified = 'Yes'\n",
    "                    break\n",
    "                except (NoSuchElementException, TimeoutException) :\n",
    "                    verified = 'No'\n",
    "            for _ in range(3):\n",
    "                try:\n",
    "                    private_account_element = WebDriverWait(driver, 10).until(EC.presence_of_element_located((By.CSS_SELECTOR, 'h2._aa_u')))\n",
    "                    private_account =  private_account_element.text\n",
    "                    if private_account == 'This Account is Private':\n",
    "                        pub_pri = 'Private'\n",
    "                        break\n",
    "                except (NoSuchElementException, TimeoutException) :\n",
    "                    pub_pri = 'Public'\n",
    "                    try:\n",
    "                        bio_element_1 = WebDriverWait(driver, 10).until(EC.presence_of_element_located((By.CSS_SELECTOR, 'h1._ap3a')))\n",
    "                        bio_1 = bio_element_1.text\n",
    "                        try:\n",
    "                            bio_element_2 = bio_element_1.find_element(By.XPATH, './br')\n",
    "                            bio_2 = bio_element_2.text\n",
    "                            bio = bio_1 + bio_2\n",
    "                        except (NoSuchElementException, TimeoutException):\n",
    "                            bio = bio_1\n",
    "                    except (NoSuchElementException, TimeoutException):\n",
    "                        bio = \"No Bio\"\n",
    "            for _ in range(3):\n",
    "                try:\n",
    "                    profile_stat = WebDriverWait(driver, 10).until(EC.presence_of_all_elements_located((By.CSS_SELECTOR, 'span._ac2a')))\n",
    "                    total_post = int(profile_stat[0].find_element(By.XPATH, './span').text.replace(',', ''))\n",
    "                    total_followers = int(profile_stat[1].get_attribute('title').replace(',', ''))\n",
    "                    total_followings = int(profile_stat[2].find_element(By.XPATH, './span').text.replace(',', ''))\n",
    "                    break\n",
    "                except (NoSuchElementException, TimeoutException):\n",
    "                    pass\n",
    "            profiles_df.loc[len(profiles_df)] = [confirm_userid, confirm_username, bio, pub_pri, total_post, total_followers, total_followings, verified]\n",
    "            print(\"and Profile statistics update successfully.\")\n",
    "            if pub_pri=='Public' and total_post > 0:\n",
    "                post_info_dataframe = post_info(driver, confirm_userid, post_df, no_of_posts, total_post)\n",
    "            else:\n",
    "                if total_post == 0:\n",
    "                    post_info_dataframe = 'No Post'\n",
    "                else:\n",
    "                    post_info_dataframe = \"Profile is private, can't see the posts\"\n",
    "        else:\n",
    "            print(f\"'{i}' is not Found\")\n",
    "            profiles_df.loc[len(profiles_df)] = [i, confirm_username, bio, pub_pri, total_post, total_followers, total_followings, verified]\n",
    "        # print(\"id\", confirm_userid)\n",
    "        # print(\"name\", confirm_username)\n",
    "        # print(\"verified\",verified)\n",
    "        # print(\"status\", pub_pri)\n",
    "        # print(\"bio\", bio)\n",
    "        # print(\"totalpost\", total_post)\n",
    "        # print(\"totalfollower\",total_followers)\n",
    "        # print(\"totalfollowing\",total_followings)\n",
    "    return profiles_df, post_info_dataframe"
   ],
   "metadata": {
    "collapsed": false,
    "ExecuteTime": {
     "end_time": "2024-02-09T22:11:15.741294300Z",
     "start_time": "2024-02-09T22:11:15.719990100Z"
    }
   }
  },
  {
   "cell_type": "code",
   "execution_count": 8,
   "outputs": [],
   "source": [
    "def logout(driver):\n",
    "    if driver.current_url != 'https://www.instagram.com':\n",
    "        try:\n",
    "            setting_element = WebDriverWait(driver, 10).until(EC.presence_of_element_located((By.CSS_SELECTOR, 'svg[aria-label=\"Settings\"]')))\n",
    "            setting_element.click()\n",
    "            logout_element = WebDriverWait(driver, 10).until(EC.presence_of_element_located((By.CSS_SELECTOR, 'div.xq9evs9'))).find_element(By.XPATH,'./div/div/div/div[6]/div')\n",
    "            logout_element.click()\n",
    "            print(\"Logout Successfully\")\n",
    "        except NoSuchElementException:\n",
    "            pass\n",
    "    else:\n",
    "        print(\"Not Login or already Logout\")"
   ],
   "metadata": {
    "collapsed": false,
    "ExecuteTime": {
     "end_time": "2024-02-09T22:11:15.741294300Z",
     "start_time": "2024-02-09T22:11:15.731933800Z"
    }
   }
  },
  {
   "cell_type": "code",
   "execution_count": 9,
   "outputs": [],
   "source": [
    "def wdclose(driver):\n",
    "    driver.quit()\n",
    "    print(\"Webdriver closed\")"
   ],
   "metadata": {
    "collapsed": false,
    "ExecuteTime": {
     "end_time": "2024-02-09T22:11:15.752844400Z",
     "start_time": "2024-02-09T22:11:15.736947200Z"
    }
   }
  },
  {
   "cell_type": "code",
   "execution_count": 10,
   "outputs": [],
   "source": [
    "def save_to_excel(directory, profiles_info_dataframe, post_info_dataframe):\n",
    "    os.chdir(directory)\n",
    "    excel_file_name = 'database.xlsx'\n",
    "    if not os.path.isfile(excel_file_name):\n",
    "        with pd.ExcelWriter(excel_file_name, engine='openpyxl') as writer:\n",
    "            profiles_info_dataframe.to_excel(writer, sheet_name='Profile_Information', index=False)\n",
    "            post_info_dataframe.to_excel(writer, sheet_name='Post_Information', index=False)\n",
    "    else:\n",
    "        wb = load_workbook(excel_file_name)\n",
    "        if 'Profile_Information' not in wb.sheetnames:\n",
    "            wb.create_sheet(title='Profile_Information')\n",
    "        if 'Post_Information' not in wb.sheetnames:\n",
    "            wb.create_sheet(title='Post_Information')\n",
    "\n",
    "        with pd.ExcelWriter(excel_file_name, engine='openpyxl', mode='a', if_sheet_exists='replace') as writer:\n",
    "            profiles_info_dataframe.to_excel(writer, sheet_name='Profile_Information', index=False, header=True)\n",
    "            post_info_dataframe.to_excel(writer, sheet_name='Post_Information', index=False, header=True)"
   ],
   "metadata": {
    "collapsed": false,
    "ExecuteTime": {
     "end_time": "2024-02-09T22:11:15.752844400Z",
     "start_time": "2024-02-09T22:11:15.746292200Z"
    }
   }
  },
  {
   "cell_type": "code",
   "execution_count": 11,
   "outputs": [
    {
     "name": "stdout",
     "output_type": "stream",
     "text": [
      "WebDriver initiate successfully in Headless mode\n",
      "Login Successfully\n",
      "Login Info Save Notification Found and click on Not Now\n",
      "No Turn On Notification Found\n"
     ]
    }
   ],
   "source": [
    "user_name = 'sample'\n",
    "pass_word = 'sample'\n",
    "\n",
    "driver = wdinit(obs=0)\n",
    "login(driver, user_name, pass_word)"
   ],
   "metadata": {
    "collapsed": false,
    "ExecuteTime": {
     "end_time": "2024-02-09T22:11:44.624042900Z",
     "start_time": "2024-02-09T22:11:15.751845500Z"
    }
   }
  },
  {
   "cell_type": "code",
   "execution_count": 12,
   "outputs": [
    {
     "name": "stdout",
     "output_type": "stream",
     "text": [
      "'aliaabhatt' is Found Successfully and Profile statistics update successfully.\n",
      "'So Delhi' is Found Successfully and Profile statistics update successfully.\n",
      "'china.travels' is Found Successfully and Profile statistics update successfully.\n",
      "'sachintendulkar' is Found Successfully and Profile statistics update successfully.\n",
      "'narendramodi' is Found Successfully and Profile statistics update successfully.\n"
     ]
    }
   ],
   "source": [
    "profile_list = ['aliaabhatt', 'So Delhi','china.travels','sachintendulkar','narendramodi']\n",
    "profiles_information, post_information = info(driver, profile_list, 10)"
   ],
   "metadata": {
    "collapsed": false,
    "ExecuteTime": {
     "end_time": "2024-02-09T22:18:02.802167Z",
     "start_time": "2024-02-09T22:11:44.623047200Z"
    }
   }
  },
  {
   "cell_type": "code",
   "execution_count": 13,
   "outputs": [
    {
     "data": {
      "text/plain": "            UserID                                     UserName  \\\n0       aliaabhatt                                 Alia Bhatt 💛   \n1          sodelhi                                     So Delhi   \n2    china.travels  China 🇨🇳 Asia Travel | Hotels | Food | Tips   \n3  sachintendulkar                             Sachin Tendulkar   \n4     narendramodi                                Narendra Modi   \n\n                                                 Bio Public-Private  \\\n0                               currently dreaming 💭         Public   \n1  Bringing you the coolest things to do in Delhi...         Public   \n2  🇨🇳 Discover the best of China\\n💙 The leading C...         Public   \n3                 Founder @sachintendulkarfoundation         Public   \n4                         Prime Minister of India 🇮🇳         Public   \n\n   TotalPost  TotalFollowers  TotalFollowings Verified  \n0       2029        82854786              533      Yes  \n1      15510          640959               34       No  \n2       9616          420639             1934      Yes  \n3       1248        47086459               49      Yes  \n4        713        86782544                0      Yes  ",
      "text/html": "<div>\n<style scoped>\n    .dataframe tbody tr th:only-of-type {\n        vertical-align: middle;\n    }\n\n    .dataframe tbody tr th {\n        vertical-align: top;\n    }\n\n    .dataframe thead th {\n        text-align: right;\n    }\n</style>\n<table border=\"1\" class=\"dataframe\">\n  <thead>\n    <tr style=\"text-align: right;\">\n      <th></th>\n      <th>UserID</th>\n      <th>UserName</th>\n      <th>Bio</th>\n      <th>Public-Private</th>\n      <th>TotalPost</th>\n      <th>TotalFollowers</th>\n      <th>TotalFollowings</th>\n      <th>Verified</th>\n    </tr>\n  </thead>\n  <tbody>\n    <tr>\n      <th>0</th>\n      <td>aliaabhatt</td>\n      <td>Alia Bhatt 💛</td>\n      <td>currently dreaming 💭</td>\n      <td>Public</td>\n      <td>2029</td>\n      <td>82854786</td>\n      <td>533</td>\n      <td>Yes</td>\n    </tr>\n    <tr>\n      <th>1</th>\n      <td>sodelhi</td>\n      <td>So Delhi</td>\n      <td>Bringing you the coolest things to do in Delhi...</td>\n      <td>Public</td>\n      <td>15510</td>\n      <td>640959</td>\n      <td>34</td>\n      <td>No</td>\n    </tr>\n    <tr>\n      <th>2</th>\n      <td>china.travels</td>\n      <td>China 🇨🇳 Asia Travel | Hotels | Food | Tips</td>\n      <td>🇨🇳 Discover the best of China\\n💙 The leading C...</td>\n      <td>Public</td>\n      <td>9616</td>\n      <td>420639</td>\n      <td>1934</td>\n      <td>Yes</td>\n    </tr>\n    <tr>\n      <th>3</th>\n      <td>sachintendulkar</td>\n      <td>Sachin Tendulkar</td>\n      <td>Founder @sachintendulkarfoundation</td>\n      <td>Public</td>\n      <td>1248</td>\n      <td>47086459</td>\n      <td>49</td>\n      <td>Yes</td>\n    </tr>\n    <tr>\n      <th>4</th>\n      <td>narendramodi</td>\n      <td>Narendra Modi</td>\n      <td>Prime Minister of India 🇮🇳</td>\n      <td>Public</td>\n      <td>713</td>\n      <td>86782544</td>\n      <td>0</td>\n      <td>Yes</td>\n    </tr>\n  </tbody>\n</table>\n</div>"
     },
     "execution_count": 13,
     "metadata": {},
     "output_type": "execute_result"
    }
   ],
   "source": [
    "profiles_information"
   ],
   "metadata": {
    "collapsed": false,
    "ExecuteTime": {
     "end_time": "2024-02-09T22:18:02.823174700Z",
     "start_time": "2024-02-09T22:18:02.803164700Z"
    }
   }
  },
  {
   "cell_type": "code",
   "execution_count": 14,
   "outputs": [
    {
     "data": {
      "text/plain": "             UserID                                     Post_URL  \\\n0        aliaabhatt     https://www.instagram.com/p/C2_vvsRtHK8/   \n1        aliaabhatt     https://www.instagram.com/p/C2ruktOPApq/   \n2        aliaabhatt     https://www.instagram.com/p/C2e0hcZvfWa/   \n3        aliaabhatt     https://www.instagram.com/p/C2XDWPbs3s9/   \n4        aliaabhatt     https://www.instagram.com/p/C2MV3ozLvEh/   \n5        aliaabhatt     https://www.instagram.com/p/C1wiGcfvn4r/   \n6        aliaabhatt     https://www.instagram.com/p/C1jtmiOPJjP/   \n7        aliaabhatt  https://www.instagram.com/reel/C1enX3UsL1T/   \n8        aliaabhatt     https://www.instagram.com/p/C1Q91jcrv95/   \n9        aliaabhatt     https://www.instagram.com/p/C04JhH1PB1y/   \n10          sodelhi  https://www.instagram.com/reel/C2O6xL6vr3c/   \n11          sodelhi     https://www.instagram.com/p/C22UHuJPizu/   \n12          sodelhi  https://www.instagram.com/reel/C0lthDArP3D/   \n13          sodelhi     https://www.instagram.com/p/C3IHOAgP1cT/   \n14          sodelhi  https://www.instagram.com/reel/C3IBJ_FPKl8/   \n15          sodelhi  https://www.instagram.com/reel/C3H6DzsP9TO/   \n16          sodelhi  https://www.instagram.com/reel/C3HpSFqrOy6/   \n17          sodelhi     https://www.instagram.com/p/C3HektLPz5X/   \n18          sodelhi     https://www.instagram.com/p/C3F9APiP3WW/   \n19          sodelhi     https://www.instagram.com/p/C3Fp28kP8Ci/   \n20    china.travels     https://www.instagram.com/p/C1-aEYcI3IM/   \n21    china.travels     https://www.instagram.com/p/C1FZzTuoiBE/   \n22    china.travels     https://www.instagram.com/p/C1FZ_XSot7e/   \n23    china.travels  https://www.instagram.com/reel/C3HLhwIINZr/   \n24    china.travels  https://www.instagram.com/reel/C3GfCJTrEKe/   \n25    china.travels  https://www.instagram.com/reel/C3GOg_NLSZz/   \n26    china.travels  https://www.instagram.com/reel/C3F6eW_CpEW/   \n27    china.travels  https://www.instagram.com/reel/C3EdnslLb_w/   \n28    china.travels  https://www.instagram.com/reel/C3D5SmINpUJ/   \n29    china.travels  https://www.instagram.com/reel/C3DwwmtNoh1/   \n30  sachintendulkar     https://www.instagram.com/p/C3IDKTOMX3M/   \n31  sachintendulkar  https://www.instagram.com/reel/C2zdukeMsUZ/   \n32  sachintendulkar  https://www.instagram.com/reel/C2miHt2vvBw/   \n33  sachintendulkar     https://www.instagram.com/p/C2jRWNUN4x6/   \n34  sachintendulkar  https://www.instagram.com/reel/C2hYOe_MnEH/   \n35  sachintendulkar     https://www.instagram.com/p/C2gonqgowUj/   \n36  sachintendulkar  https://www.instagram.com/reel/C2e5ttohRX8/   \n37  sachintendulkar     https://www.instagram.com/p/C2ePDYcIFPc/   \n38  sachintendulkar  https://www.instagram.com/reel/C2cTgHmLvOD/   \n39  sachintendulkar  https://www.instagram.com/reel/C2Z2C6ntZCI/   \n40     narendramodi  https://www.instagram.com/reel/C3HYtJGP50d/   \n41     narendramodi  https://www.instagram.com/reel/C3AD0mqP_Qt/   \n42     narendramodi  https://www.instagram.com/reel/C2uKEu6Sz2_/   \n43     narendramodi  https://www.instagram.com/reel/C2h9tGkS3X6/   \n44     narendramodi  https://www.instagram.com/reel/C2bb-7Vhb2w/   \n45     narendramodi     https://www.instagram.com/p/C2aG0mZhTs-/   \n46     narendramodi     https://www.instagram.com/p/C2Zvl97hxE8/   \n47     narendramodi  https://www.instagram.com/reel/C2WX-RGBALw/   \n48     narendramodi     https://www.instagram.com/p/C2U3bJ8hvE0/   \n49     narendramodi  https://www.instagram.com/reel/C2RPZjYSMpk/   \n\n                                              Caption  Like_Count  \\\n0   beneath the silence, the forest reveals a dead...       97890   \n1   સરસ night at @filmfare 🫶🏻✨🖤\\nP.S. this one’s f...     3409504   \n2   ❤️‍🔥\\n#SanjayLeelaBhansali #RanbirKapoor @vick...      603128   \n3   To a night of culture, honour & cinema 🫶🏼✨\\n@t...     2376570   \n4   we are cuddly sleepers 💛💛💛💛💛\\nre-united at las...     1468309   \n5             Many moods & a million mirror selfies 💫     2482559   \n6   2024 to do - keep it wholesome & soul-some\\nha...     3582159   \n7                                          2 0 2 3 🫶🏻     3192646   \n8   grateful for this bunch.. grateful for so so m...     3697413   \n9                                   Yellow there 👋🌼☀️     2370855   \n10  Let the floodgates open! 🙌🏼\\n#delhimetro #metr...       14726   \n11  The most liked comment gets pinned 📌\\n#winter ...        4566   \n12  Giddy up, foodies! 🙌🏼🏇\\n📍Caffee Cavallo - Sect...       34120   \n13  Only a FEW HOURS to Delhi’s ‘IT’ event of the ...         360   \n14  What better place to spend Valentine’s at? 🥰🫶🏼...         480   \n15  A Valentine’s candlelit dinner with a lake vie...         381   \n16  Fun day out with the li’l ones! 🫶🏼\\n📍Tingaland...         446   \n17  Here are some unconventionally amazing V’Day i...         561   \n18  Twirl into carb paradise with this heavenly pa...         393   \n19  This 1+1 Pizza Offer doubles the FUN with doub...         402   \n20  🔍 At @china.travels by @hotel, we turn your on...         343   \n21  ✨ Welcome to a new era of travel with @hotel, ...         325   \n22  🔎 @china.travels by @hotel is your passport to...         290   \n23  С наступающим Новым Годом по лунному календарю...         873   \n24  Lights, skyscrapers, and the mesmerizing beaut...         254   \n25  @d.tzankatian spotting Panathenaic Stadium! 😍✨...         208   \n26  A mesmerizing symphony of lights in the heart ...        1040   \n27  Чем заняться в Пекине во время Китайского Ново...         696   \n28  A Beacon of Light: Canton Tower's dazzling lig...        2030   \n29  Touching the clouds ☁️😍\\n🏷️Tag someone who lov...         344   \n30  𝗠𝗔𝗫𝗶𝗺𝘂𝗺 𝗳𝘂𝗻 𝘄𝗶𝘁𝗵 𝗠𝗮𝘅.\\n#DogsOfInstagram #FunFr...      144777   \n31  Sachin meets TENDULKAR. 😋\\nIt fills my heart w...     3965378   \n32  The wait is finally over! Experience the thril...       44691   \n33                               #HappyRepublicDay 🇮🇳      217715   \n34  Celebrating National Tourism Day with a roar! ...      859449   \n35  Just like every run counts in cricket, every v...       35665   \n36  Get a chance to win @sachintendulkar's biking ...       55710   \n37  Girls with dreams become women with vision!\\nT...       78461   \n38  Nothing, just a person who ISPLaying his favou...      188520   \n39  Happy to be at the new Shri Ram Mandir in Ayod...     7682771   \n40  Welfare of our citizens is my unwavering commi...      582736   \n41  Let us work together for a #ViksitBharat for 1...     1375382   \n42  Enjoyed interacting with our dynamic youngster...      890633   \n43       Tea with my friend President @emmanuelmacron     3477209   \n44       Glimpses from a very special day in Ayodhya!    12816113   \n45                               रामज्योति! #RamJyoti     6644628   \n46  Divine moments from Ayodhya. Every Indian will...    11630168   \n47  Special moments at Sri Ranganathaswamy Temple ...     9292545   \n48  Blessed to visit the Sri Ranganathaswamy Templ...     5993626   \n49  Pran-Pratishtha of Shri Ram Mandir in Ayodhya ...     3313915   \n\n      Post_Dated                                         All_Tagged  \n0    Feb 6, 2024  @nimisha_sajayan, @roshan.matthew, @dibyenduof...  \n1   Jan 29, 2024  @filmfare, @ranveersingh, @aapkadharam, @azmis...  \n2   Jan 24, 2024  @vickykaushal09, @prerna_singh6, @bhansaliprod...  \n3   Jan 21, 2024        @turkialalshik, @rredfilms, @thebushramahdi  \n4   Jan 17, 2024                                          @shaheenb  \n5    Jan 6, 2024                                               None  \n6    Jan 1, 2024                                               None  \n7   Dec 30, 2023                                               None  \n8   Dec 25, 2023                                               None  \n9   Dec 15, 2023                                               None  \n10  Jan 18, 2024                                               None  \n11   Feb 2, 2024                                               None  \n12   Dec 8, 2023                                               None  \n13   Feb 9, 2024                               @moonrisefestivalind  \n14   Feb 9, 2024                                               None  \n15   Feb 9, 2024                                       @miabellahkv  \n16   Feb 9, 2024                                               None  \n17   Feb 9, 2024  @clubsunsetcinema, @the.art.curry, @cafedelhih...  \n18   Feb 8, 2024                                       @bomba_india  \n19   Feb 8, 2024                                   @lemeridiendelhi  \n20  Jan 12, 2024                            @china.travels, @hotel,  \n21  Dec 20, 2023                            @hotel,, @hotel, @hotel  \n22  Dec 20, 2023            @china.travels, @hotel, @hotel, @hotel,  \n23   Feb 9, 2024                                               None  \n24   Feb 9, 2024                                    @andrewts.photo  \n25   Feb 9, 2024                       @d.tzankatian, @d.tzankatian  \n26   Feb 8, 2024                                       @ozsebstudio  \n27   Feb 8, 2024                                               None  \n28   Feb 8, 2024                                 @chinadestinations  \n29   Feb 8, 2024                                @sinery_photography  \n30   Feb 9, 2024                                               None  \n31   Feb 1, 2024                                               None  \n32  Jan 27, 2024  @sachintendulkar, @surajsamat, @amol_kale76, @...  \n33  Jan 26, 2024                                               None  \n34  Jan 25, 2024                                               None  \n35  Jan 25, 2024                                               None  \n36  Jan 24, 2024  @sachintendulkar's, @apolloxsports, @apolloxsp...  \n37  Jan 24, 2024                                               None  \n38  Jan 23, 2024  @ispl_t10, @amitabhbachchan, @akshaykumar, @hr...  \n39  Jan 22, 2024                                               None  \n40   Feb 9, 2024                                               None  \n41   Feb 6, 2024                                               None  \n42  Jan 30, 2024                                               None  \n43  Jan 25, 2024                                    @emmanuelmacron  \n44  Jan 23, 2024                                               None  \n45  Jan 22, 2024                                               None  \n46  Jan 22, 2024                                               None  \n47  Jan 21, 2024                                               None  \n48  Jan 20, 2024                                               None  \n49  Jan 19, 2024                                               None  ",
      "text/html": "<div>\n<style scoped>\n    .dataframe tbody tr th:only-of-type {\n        vertical-align: middle;\n    }\n\n    .dataframe tbody tr th {\n        vertical-align: top;\n    }\n\n    .dataframe thead th {\n        text-align: right;\n    }\n</style>\n<table border=\"1\" class=\"dataframe\">\n  <thead>\n    <tr style=\"text-align: right;\">\n      <th></th>\n      <th>UserID</th>\n      <th>Post_URL</th>\n      <th>Caption</th>\n      <th>Like_Count</th>\n      <th>Post_Dated</th>\n      <th>All_Tagged</th>\n    </tr>\n  </thead>\n  <tbody>\n    <tr>\n      <th>0</th>\n      <td>aliaabhatt</td>\n      <td>https://www.instagram.com/p/C2_vvsRtHK8/</td>\n      <td>beneath the silence, the forest reveals a dead...</td>\n      <td>97890</td>\n      <td>Feb 6, 2024</td>\n      <td>@nimisha_sajayan, @roshan.matthew, @dibyenduof...</td>\n    </tr>\n    <tr>\n      <th>1</th>\n      <td>aliaabhatt</td>\n      <td>https://www.instagram.com/p/C2ruktOPApq/</td>\n      <td>સરસ night at @filmfare 🫶🏻✨🖤\\nP.S. this one’s f...</td>\n      <td>3409504</td>\n      <td>Jan 29, 2024</td>\n      <td>@filmfare, @ranveersingh, @aapkadharam, @azmis...</td>\n    </tr>\n    <tr>\n      <th>2</th>\n      <td>aliaabhatt</td>\n      <td>https://www.instagram.com/p/C2e0hcZvfWa/</td>\n      <td>❤️‍🔥\\n#SanjayLeelaBhansali #RanbirKapoor @vick...</td>\n      <td>603128</td>\n      <td>Jan 24, 2024</td>\n      <td>@vickykaushal09, @prerna_singh6, @bhansaliprod...</td>\n    </tr>\n    <tr>\n      <th>3</th>\n      <td>aliaabhatt</td>\n      <td>https://www.instagram.com/p/C2XDWPbs3s9/</td>\n      <td>To a night of culture, honour &amp; cinema 🫶🏼✨\\n@t...</td>\n      <td>2376570</td>\n      <td>Jan 21, 2024</td>\n      <td>@turkialalshik, @rredfilms, @thebushramahdi</td>\n    </tr>\n    <tr>\n      <th>4</th>\n      <td>aliaabhatt</td>\n      <td>https://www.instagram.com/p/C2MV3ozLvEh/</td>\n      <td>we are cuddly sleepers 💛💛💛💛💛\\nre-united at las...</td>\n      <td>1468309</td>\n      <td>Jan 17, 2024</td>\n      <td>@shaheenb</td>\n    </tr>\n    <tr>\n      <th>5</th>\n      <td>aliaabhatt</td>\n      <td>https://www.instagram.com/p/C1wiGcfvn4r/</td>\n      <td>Many moods &amp; a million mirror selfies 💫</td>\n      <td>2482559</td>\n      <td>Jan 6, 2024</td>\n      <td>None</td>\n    </tr>\n    <tr>\n      <th>6</th>\n      <td>aliaabhatt</td>\n      <td>https://www.instagram.com/p/C1jtmiOPJjP/</td>\n      <td>2024 to do - keep it wholesome &amp; soul-some\\nha...</td>\n      <td>3582159</td>\n      <td>Jan 1, 2024</td>\n      <td>None</td>\n    </tr>\n    <tr>\n      <th>7</th>\n      <td>aliaabhatt</td>\n      <td>https://www.instagram.com/reel/C1enX3UsL1T/</td>\n      <td>2 0 2 3 🫶🏻</td>\n      <td>3192646</td>\n      <td>Dec 30, 2023</td>\n      <td>None</td>\n    </tr>\n    <tr>\n      <th>8</th>\n      <td>aliaabhatt</td>\n      <td>https://www.instagram.com/p/C1Q91jcrv95/</td>\n      <td>grateful for this bunch.. grateful for so so m...</td>\n      <td>3697413</td>\n      <td>Dec 25, 2023</td>\n      <td>None</td>\n    </tr>\n    <tr>\n      <th>9</th>\n      <td>aliaabhatt</td>\n      <td>https://www.instagram.com/p/C04JhH1PB1y/</td>\n      <td>Yellow there 👋🌼☀️</td>\n      <td>2370855</td>\n      <td>Dec 15, 2023</td>\n      <td>None</td>\n    </tr>\n    <tr>\n      <th>10</th>\n      <td>sodelhi</td>\n      <td>https://www.instagram.com/reel/C2O6xL6vr3c/</td>\n      <td>Let the floodgates open! 🙌🏼\\n#delhimetro #metr...</td>\n      <td>14726</td>\n      <td>Jan 18, 2024</td>\n      <td>None</td>\n    </tr>\n    <tr>\n      <th>11</th>\n      <td>sodelhi</td>\n      <td>https://www.instagram.com/p/C22UHuJPizu/</td>\n      <td>The most liked comment gets pinned 📌\\n#winter ...</td>\n      <td>4566</td>\n      <td>Feb 2, 2024</td>\n      <td>None</td>\n    </tr>\n    <tr>\n      <th>12</th>\n      <td>sodelhi</td>\n      <td>https://www.instagram.com/reel/C0lthDArP3D/</td>\n      <td>Giddy up, foodies! 🙌🏼🏇\\n📍Caffee Cavallo - Sect...</td>\n      <td>34120</td>\n      <td>Dec 8, 2023</td>\n      <td>None</td>\n    </tr>\n    <tr>\n      <th>13</th>\n      <td>sodelhi</td>\n      <td>https://www.instagram.com/p/C3IHOAgP1cT/</td>\n      <td>Only a FEW HOURS to Delhi’s ‘IT’ event of the ...</td>\n      <td>360</td>\n      <td>Feb 9, 2024</td>\n      <td>@moonrisefestivalind</td>\n    </tr>\n    <tr>\n      <th>14</th>\n      <td>sodelhi</td>\n      <td>https://www.instagram.com/reel/C3IBJ_FPKl8/</td>\n      <td>What better place to spend Valentine’s at? 🥰🫶🏼...</td>\n      <td>480</td>\n      <td>Feb 9, 2024</td>\n      <td>None</td>\n    </tr>\n    <tr>\n      <th>15</th>\n      <td>sodelhi</td>\n      <td>https://www.instagram.com/reel/C3H6DzsP9TO/</td>\n      <td>A Valentine’s candlelit dinner with a lake vie...</td>\n      <td>381</td>\n      <td>Feb 9, 2024</td>\n      <td>@miabellahkv</td>\n    </tr>\n    <tr>\n      <th>16</th>\n      <td>sodelhi</td>\n      <td>https://www.instagram.com/reel/C3HpSFqrOy6/</td>\n      <td>Fun day out with the li’l ones! 🫶🏼\\n📍Tingaland...</td>\n      <td>446</td>\n      <td>Feb 9, 2024</td>\n      <td>None</td>\n    </tr>\n    <tr>\n      <th>17</th>\n      <td>sodelhi</td>\n      <td>https://www.instagram.com/p/C3HektLPz5X/</td>\n      <td>Here are some unconventionally amazing V’Day i...</td>\n      <td>561</td>\n      <td>Feb 9, 2024</td>\n      <td>@clubsunsetcinema, @the.art.curry, @cafedelhih...</td>\n    </tr>\n    <tr>\n      <th>18</th>\n      <td>sodelhi</td>\n      <td>https://www.instagram.com/p/C3F9APiP3WW/</td>\n      <td>Twirl into carb paradise with this heavenly pa...</td>\n      <td>393</td>\n      <td>Feb 8, 2024</td>\n      <td>@bomba_india</td>\n    </tr>\n    <tr>\n      <th>19</th>\n      <td>sodelhi</td>\n      <td>https://www.instagram.com/p/C3Fp28kP8Ci/</td>\n      <td>This 1+1 Pizza Offer doubles the FUN with doub...</td>\n      <td>402</td>\n      <td>Feb 8, 2024</td>\n      <td>@lemeridiendelhi</td>\n    </tr>\n    <tr>\n      <th>20</th>\n      <td>china.travels</td>\n      <td>https://www.instagram.com/p/C1-aEYcI3IM/</td>\n      <td>🔍 At @china.travels by @hotel, we turn your on...</td>\n      <td>343</td>\n      <td>Jan 12, 2024</td>\n      <td>@china.travels, @hotel,</td>\n    </tr>\n    <tr>\n      <th>21</th>\n      <td>china.travels</td>\n      <td>https://www.instagram.com/p/C1FZzTuoiBE/</td>\n      <td>✨ Welcome to a new era of travel with @hotel, ...</td>\n      <td>325</td>\n      <td>Dec 20, 2023</td>\n      <td>@hotel,, @hotel, @hotel</td>\n    </tr>\n    <tr>\n      <th>22</th>\n      <td>china.travels</td>\n      <td>https://www.instagram.com/p/C1FZ_XSot7e/</td>\n      <td>🔎 @china.travels by @hotel is your passport to...</td>\n      <td>290</td>\n      <td>Dec 20, 2023</td>\n      <td>@china.travels, @hotel, @hotel, @hotel,</td>\n    </tr>\n    <tr>\n      <th>23</th>\n      <td>china.travels</td>\n      <td>https://www.instagram.com/reel/C3HLhwIINZr/</td>\n      <td>С наступающим Новым Годом по лунному календарю...</td>\n      <td>873</td>\n      <td>Feb 9, 2024</td>\n      <td>None</td>\n    </tr>\n    <tr>\n      <th>24</th>\n      <td>china.travels</td>\n      <td>https://www.instagram.com/reel/C3GfCJTrEKe/</td>\n      <td>Lights, skyscrapers, and the mesmerizing beaut...</td>\n      <td>254</td>\n      <td>Feb 9, 2024</td>\n      <td>@andrewts.photo</td>\n    </tr>\n    <tr>\n      <th>25</th>\n      <td>china.travels</td>\n      <td>https://www.instagram.com/reel/C3GOg_NLSZz/</td>\n      <td>@d.tzankatian spotting Panathenaic Stadium! 😍✨...</td>\n      <td>208</td>\n      <td>Feb 9, 2024</td>\n      <td>@d.tzankatian, @d.tzankatian</td>\n    </tr>\n    <tr>\n      <th>26</th>\n      <td>china.travels</td>\n      <td>https://www.instagram.com/reel/C3F6eW_CpEW/</td>\n      <td>A mesmerizing symphony of lights in the heart ...</td>\n      <td>1040</td>\n      <td>Feb 8, 2024</td>\n      <td>@ozsebstudio</td>\n    </tr>\n    <tr>\n      <th>27</th>\n      <td>china.travels</td>\n      <td>https://www.instagram.com/reel/C3EdnslLb_w/</td>\n      <td>Чем заняться в Пекине во время Китайского Ново...</td>\n      <td>696</td>\n      <td>Feb 8, 2024</td>\n      <td>None</td>\n    </tr>\n    <tr>\n      <th>28</th>\n      <td>china.travels</td>\n      <td>https://www.instagram.com/reel/C3D5SmINpUJ/</td>\n      <td>A Beacon of Light: Canton Tower's dazzling lig...</td>\n      <td>2030</td>\n      <td>Feb 8, 2024</td>\n      <td>@chinadestinations</td>\n    </tr>\n    <tr>\n      <th>29</th>\n      <td>china.travels</td>\n      <td>https://www.instagram.com/reel/C3DwwmtNoh1/</td>\n      <td>Touching the clouds ☁️😍\\n🏷️Tag someone who lov...</td>\n      <td>344</td>\n      <td>Feb 8, 2024</td>\n      <td>@sinery_photography</td>\n    </tr>\n    <tr>\n      <th>30</th>\n      <td>sachintendulkar</td>\n      <td>https://www.instagram.com/p/C3IDKTOMX3M/</td>\n      <td>𝗠𝗔𝗫𝗶𝗺𝘂𝗺 𝗳𝘂𝗻 𝘄𝗶𝘁𝗵 𝗠𝗮𝘅.\\n#DogsOfInstagram #FunFr...</td>\n      <td>144777</td>\n      <td>Feb 9, 2024</td>\n      <td>None</td>\n    </tr>\n    <tr>\n      <th>31</th>\n      <td>sachintendulkar</td>\n      <td>https://www.instagram.com/reel/C2zdukeMsUZ/</td>\n      <td>Sachin meets TENDULKAR. 😋\\nIt fills my heart w...</td>\n      <td>3965378</td>\n      <td>Feb 1, 2024</td>\n      <td>None</td>\n    </tr>\n    <tr>\n      <th>32</th>\n      <td>sachintendulkar</td>\n      <td>https://www.instagram.com/reel/C2miHt2vvBw/</td>\n      <td>The wait is finally over! Experience the thril...</td>\n      <td>44691</td>\n      <td>Jan 27, 2024</td>\n      <td>@sachintendulkar, @surajsamat, @amol_kale76, @...</td>\n    </tr>\n    <tr>\n      <th>33</th>\n      <td>sachintendulkar</td>\n      <td>https://www.instagram.com/p/C2jRWNUN4x6/</td>\n      <td>#HappyRepublicDay 🇮🇳</td>\n      <td>217715</td>\n      <td>Jan 26, 2024</td>\n      <td>None</td>\n    </tr>\n    <tr>\n      <th>34</th>\n      <td>sachintendulkar</td>\n      <td>https://www.instagram.com/reel/C2hYOe_MnEH/</td>\n      <td>Celebrating National Tourism Day with a roar! ...</td>\n      <td>859449</td>\n      <td>Jan 25, 2024</td>\n      <td>None</td>\n    </tr>\n    <tr>\n      <th>35</th>\n      <td>sachintendulkar</td>\n      <td>https://www.instagram.com/p/C2gonqgowUj/</td>\n      <td>Just like every run counts in cricket, every v...</td>\n      <td>35665</td>\n      <td>Jan 25, 2024</td>\n      <td>None</td>\n    </tr>\n    <tr>\n      <th>36</th>\n      <td>sachintendulkar</td>\n      <td>https://www.instagram.com/reel/C2e5ttohRX8/</td>\n      <td>Get a chance to win @sachintendulkar's biking ...</td>\n      <td>55710</td>\n      <td>Jan 24, 2024</td>\n      <td>@sachintendulkar's, @apolloxsports, @apolloxsp...</td>\n    </tr>\n    <tr>\n      <th>37</th>\n      <td>sachintendulkar</td>\n      <td>https://www.instagram.com/p/C2ePDYcIFPc/</td>\n      <td>Girls with dreams become women with vision!\\nT...</td>\n      <td>78461</td>\n      <td>Jan 24, 2024</td>\n      <td>None</td>\n    </tr>\n    <tr>\n      <th>38</th>\n      <td>sachintendulkar</td>\n      <td>https://www.instagram.com/reel/C2cTgHmLvOD/</td>\n      <td>Nothing, just a person who ISPLaying his favou...</td>\n      <td>188520</td>\n      <td>Jan 23, 2024</td>\n      <td>@ispl_t10, @amitabhbachchan, @akshaykumar, @hr...</td>\n    </tr>\n    <tr>\n      <th>39</th>\n      <td>sachintendulkar</td>\n      <td>https://www.instagram.com/reel/C2Z2C6ntZCI/</td>\n      <td>Happy to be at the new Shri Ram Mandir in Ayod...</td>\n      <td>7682771</td>\n      <td>Jan 22, 2024</td>\n      <td>None</td>\n    </tr>\n    <tr>\n      <th>40</th>\n      <td>narendramodi</td>\n      <td>https://www.instagram.com/reel/C3HYtJGP50d/</td>\n      <td>Welfare of our citizens is my unwavering commi...</td>\n      <td>582736</td>\n      <td>Feb 9, 2024</td>\n      <td>None</td>\n    </tr>\n    <tr>\n      <th>41</th>\n      <td>narendramodi</td>\n      <td>https://www.instagram.com/reel/C3AD0mqP_Qt/</td>\n      <td>Let us work together for a #ViksitBharat for 1...</td>\n      <td>1375382</td>\n      <td>Feb 6, 2024</td>\n      <td>None</td>\n    </tr>\n    <tr>\n      <th>42</th>\n      <td>narendramodi</td>\n      <td>https://www.instagram.com/reel/C2uKEu6Sz2_/</td>\n      <td>Enjoyed interacting with our dynamic youngster...</td>\n      <td>890633</td>\n      <td>Jan 30, 2024</td>\n      <td>None</td>\n    </tr>\n    <tr>\n      <th>43</th>\n      <td>narendramodi</td>\n      <td>https://www.instagram.com/reel/C2h9tGkS3X6/</td>\n      <td>Tea with my friend President @emmanuelmacron</td>\n      <td>3477209</td>\n      <td>Jan 25, 2024</td>\n      <td>@emmanuelmacron</td>\n    </tr>\n    <tr>\n      <th>44</th>\n      <td>narendramodi</td>\n      <td>https://www.instagram.com/reel/C2bb-7Vhb2w/</td>\n      <td>Glimpses from a very special day in Ayodhya!</td>\n      <td>12816113</td>\n      <td>Jan 23, 2024</td>\n      <td>None</td>\n    </tr>\n    <tr>\n      <th>45</th>\n      <td>narendramodi</td>\n      <td>https://www.instagram.com/p/C2aG0mZhTs-/</td>\n      <td>रामज्योति! #RamJyoti</td>\n      <td>6644628</td>\n      <td>Jan 22, 2024</td>\n      <td>None</td>\n    </tr>\n    <tr>\n      <th>46</th>\n      <td>narendramodi</td>\n      <td>https://www.instagram.com/p/C2Zvl97hxE8/</td>\n      <td>Divine moments from Ayodhya. Every Indian will...</td>\n      <td>11630168</td>\n      <td>Jan 22, 2024</td>\n      <td>None</td>\n    </tr>\n    <tr>\n      <th>47</th>\n      <td>narendramodi</td>\n      <td>https://www.instagram.com/reel/C2WX-RGBALw/</td>\n      <td>Special moments at Sri Ranganathaswamy Temple ...</td>\n      <td>9292545</td>\n      <td>Jan 21, 2024</td>\n      <td>None</td>\n    </tr>\n    <tr>\n      <th>48</th>\n      <td>narendramodi</td>\n      <td>https://www.instagram.com/p/C2U3bJ8hvE0/</td>\n      <td>Blessed to visit the Sri Ranganathaswamy Templ...</td>\n      <td>5993626</td>\n      <td>Jan 20, 2024</td>\n      <td>None</td>\n    </tr>\n    <tr>\n      <th>49</th>\n      <td>narendramodi</td>\n      <td>https://www.instagram.com/reel/C2RPZjYSMpk/</td>\n      <td>Pran-Pratishtha of Shri Ram Mandir in Ayodhya ...</td>\n      <td>3313915</td>\n      <td>Jan 19, 2024</td>\n      <td>None</td>\n    </tr>\n  </tbody>\n</table>\n</div>"
     },
     "execution_count": 14,
     "metadata": {},
     "output_type": "execute_result"
    }
   ],
   "source": [
    "post_information"
   ],
   "metadata": {
    "collapsed": false,
    "ExecuteTime": {
     "end_time": "2024-02-09T22:18:02.831462400Z",
     "start_time": "2024-02-09T22:18:02.819176100Z"
    }
   }
  },
  {
   "cell_type": "code",
   "execution_count": 15,
   "outputs": [
    {
     "name": "stdout",
     "output_type": "stream",
     "text": [
      "Logout Successfully\n"
     ]
    }
   ],
   "source": [
    "logout(driver)"
   ],
   "metadata": {
    "collapsed": false,
    "ExecuteTime": {
     "end_time": "2024-02-09T22:18:04.099767800Z",
     "start_time": "2024-02-09T22:18:02.832465300Z"
    }
   }
  },
  {
   "cell_type": "code",
   "execution_count": 16,
   "outputs": [
    {
     "name": "stdout",
     "output_type": "stream",
     "text": [
      "Webdriver closed\n"
     ]
    }
   ],
   "source": [
    "wdclose(driver)"
   ],
   "metadata": {
    "collapsed": false,
    "ExecuteTime": {
     "end_time": "2024-02-09T22:18:06.148975900Z",
     "start_time": "2024-02-09T22:18:04.094762400Z"
    }
   }
  },
  {
   "cell_type": "code",
   "execution_count": 17,
   "outputs": [],
   "source": [
    "location = r\"location\"\n",
    "save_to_excel(location, profiles_information, post_information)"
   ],
   "metadata": {
    "collapsed": false,
    "ExecuteTime": {
     "end_time": "2024-02-09T22:18:06.202712800Z",
     "start_time": "2024-02-09T22:18:06.146977Z"
    }
   }
  }
 ],
 "metadata": {
  "kernelspec": {
   "display_name": "Python 3",
   "language": "python",
   "name": "python3"
  },
  "language_info": {
   "codemirror_mode": {
    "name": "ipython",
    "version": 2
   },
   "file_extension": ".py",
   "mimetype": "text/x-python",
   "name": "python",
   "nbconvert_exporter": "python",
   "pygments_lexer": "ipython2",
   "version": "2.7.6"
  }
 },
 "nbformat": 4,
 "nbformat_minor": 0
}
