{
 "cells": [
  {
   "cell_type": "code",
   "execution_count": 1,
   "metadata": {
    "collapsed": true,
    "ExecuteTime": {
     "end_time": "2024-02-16T20:59:51.078186300Z",
     "start_time": "2024-02-16T20:59:50.426648100Z"
    }
   },
   "outputs": [],
   "source": [
    "import time\n",
    "from datetime import datetime, date\n",
    "import os\n",
    "import pandas as pd\n",
    "from selenium import webdriver\n",
    "from webdriver_manager.chrome import ChromeDriverManager\n",
    "from selenium.webdriver.chrome.service import Service\n",
    "from selenium.webdriver.chrome.options import Options\n",
    "from selenium.webdriver.support.ui import WebDriverWait\n",
    "from selenium.webdriver.support import expected_conditions as EC\n",
    "from selenium.webdriver.common.by import By\n",
    "from selenium.common.exceptions import TimeoutException,StaleElementReferenceException, NoSuchElementException"
   ]
  },
  {
   "cell_type": "code",
   "execution_count": 2,
   "outputs": [],
   "source": [
    "def wdinit(obs='0'):\n",
    "    Chrome_options = Options()\n",
    "    not_windowed = False\n",
    "    if obs == 'OFF' or obs == 0:\n",
    "        Chrome_options.add_argument('--headless')\n",
    "        Chrome_options.add_argument('--disable-gpu')\n",
    "        not_windowed = True\n",
    "    Chrome_options.add_argument(\"--disable-infobars\")\n",
    "    Chrome_options.add_argument(\"--incognito\")\n",
    "    Chrome_options.add_argument(\"--start-maximized\")\n",
    "    Chrome_options.add_experimental_option(\"prefs\", {\n",
    "        \"safe browsing.enabled\": True\n",
    "    })\n",
    "\n",
    "    driver = webdriver.Chrome(service=Service(ChromeDriverManager().install()), options=Chrome_options)\n",
    "    if not_windowed == True:\n",
    "        print('WebDriver initiate successfully in Headless mode')\n",
    "    else:\n",
    "        print('WebDriver initiate successfully in Window mode')\n",
    "    return driver"
   ],
   "metadata": {
    "collapsed": false,
    "ExecuteTime": {
     "end_time": "2024-02-16T20:59:51.085067500Z",
     "start_time": "2024-02-16T20:59:51.081186Z"
    }
   }
  },
  {
   "cell_type": "code",
   "execution_count": 3,
   "outputs": [],
   "source": [
    "def login(driver, username, password, website = 'https://www.instagram.com/'):\n",
    "    driver.get(website)\n",
    "\n",
    "    try:\n",
    "        username_box = WebDriverWait(driver, 10).until(\n",
    "            EC.presence_of_element_located((By.CSS_SELECTOR, \"input[name='username']\"))\n",
    "        )\n",
    "        password_box = driver.find_element(By.CSS_SELECTOR, \"input[name='password']\")\n",
    "        username_box.clear()\n",
    "        password_box.clear()\n",
    "        username_box.send_keys(username)\n",
    "        password_box.send_keys(password)\n",
    "\n",
    "        driver.find_element(By.CSS_SELECTOR, \"button[type='submit']\").submit()\n",
    "        print(\"Login Successfully\")\n",
    "\n",
    "        time.sleep(2)\n",
    "\n",
    "        try:\n",
    "            WebDriverWait(driver, 10).until(EC.presence_of_element_located((By.CSS_SELECTOR, 'div._ac8f'))).click()\n",
    "            print(\"Login Info Save Notification Found and click on Not Now\")\n",
    "        except (TimeoutException, NoSuchElementException):\n",
    "            print(\"No Login Info Save Notification Found\")\n",
    "\n",
    "        time.sleep(2)\n",
    "\n",
    "        try:\n",
    "            WebDriverWait(driver, 10).until(EC.presence_of_element_located((By.CSS_SELECTOR, 'button._a9_1'))).click()\n",
    "            print(\"Notification Found and click on Not Now\")\n",
    "        except (TimeoutException, NoSuchElementException):\n",
    "            print(\"No Turn On Notification Found\")\n",
    "\n",
    "    except TimeoutException:\n",
    "        print(\"Already logged in\")"
   ],
   "metadata": {
    "collapsed": false,
    "ExecuteTime": {
     "end_time": "2024-02-16T20:59:51.094661900Z",
     "start_time": "2024-02-16T20:59:51.089070300Z"
    }
   }
  },
  {
   "cell_type": "code",
   "execution_count": 4,
   "outputs": [],
   "source": [
    "def searchnfill(driver, fill=\"\"):\n",
    "    try:\n",
    "        driver.find_element(By.CSS_SELECTOR, 'svg[aria-label=\"Close').click()\n",
    "    except NoSuchElementException:\n",
    "        pass\n",
    "    try:\n",
    "        search_bar = WebDriverWait(driver, 10).until(EC.presence_of_element_located((By.CSS_SELECTOR, \"input[aria-label='Search input']\")))\n",
    "    except (NoSuchElementException, TimeoutException):\n",
    "        search_button = driver.find_element(By.CSS_SELECTOR, \"svg[aria-label='Search']\")\n",
    "        search_button.click()\n",
    "        search_bar = WebDriverWait(driver, 10).until(EC.presence_of_element_located((By.CSS_SELECTOR, \"input[aria-label='Search input']\")))\n",
    "    finally:\n",
    "        search_bar.clear()\n",
    "        search_bar.send_keys(fill)\n",
    "        time.sleep(1)\n",
    "\n",
    "def searchresult(driver, searchKeyword):\n",
    "    searchnfill(driver, searchKeyword)\n",
    "    profilelist = list()\n",
    "    for _ in range(3):\n",
    "        try:\n",
    "            profileelement = WebDriverWait(driver, 10).until(EC.presence_of_element_located((By.CSS_SELECTOR, \"div.xocp1fn\")))\n",
    "            WebDriverWait(profileelement, 10).until(EC.presence_of_all_elements_located((By.XPATH, \"./a\")))\n",
    "            profilelist = profileelement.find_elements(By.XPATH, \"./a\")\n",
    "            break\n",
    "        except (StaleElementReferenceException, NoSuchElementException, TimeoutException):\n",
    "            time.sleep(1)\n",
    "    profile_searched = len(profilelist)\n",
    "    return profilelist, profile_searched"
   ],
   "metadata": {
    "collapsed": false,
    "ExecuteTime": {
     "end_time": "2024-02-16T20:59:51.135038200Z",
     "start_time": "2024-02-16T20:59:51.100663Z"
    }
   }
  },
  {
   "cell_type": "code",
   "execution_count": 5,
   "outputs": [],
   "source": [
    "# Function to Search & Open Profile\n",
    "def openprofile(driver, profilename):\n",
    "    profilelist, total_profile = searchresult(driver, profilename)\n",
    "    if len(profilelist)>0:\n",
    "        if total_profile>0:\n",
    "            for i in profilelist:\n",
    "                spantag = i.find_elements(By.XPATH, './div/div/div/div[2]/div/div/span')\n",
    "                l = len(spantag)\n",
    "                if l == 1:\n",
    "                    userid = i.find_element(By.XPATH, './div/div/div/div[2]/div/div/div/span').text\n",
    "                    username = i.find_element(By.XPATH, './div/div/div/div[2]/div/div/span/span').text\n",
    "                elif l == 2:\n",
    "                    userid = i.find_element(By.XPATH, './div/div/div/div[2]/div/div/span[1]/span').text\n",
    "                    username = \"tag\"\n",
    "                if userid == profilename or username.startswith(profilename):\n",
    "                    found_profile = i.find_element(By.XPATH, './div')\n",
    "                    found_profile.click()\n",
    "                    status = True\n",
    "                    break\n",
    "                else:\n",
    "                    status = False\n",
    "            driver.find_element(By.CSS_SELECTOR, \"svg[aria-label='Search']\").click()\n",
    "        else:\n",
    "            status = False\n",
    "        time.sleep(1)\n",
    "        return status, userid, username\n",
    "    else:\n",
    "        status = False\n",
    "        username = None\n",
    "        userid = None\n",
    "        # print(userid,username)\n",
    "        return status, userid, username"
   ],
   "metadata": {
    "collapsed": false,
    "ExecuteTime": {
     "end_time": "2024-02-16T20:59:51.135544Z",
     "start_time": "2024-02-16T20:59:51.112192700Z"
    }
   }
  },
  {
   "cell_type": "code",
   "execution_count": 6,
   "outputs": [],
   "source": [
    "def post_info(driver, user_id, post_df, no_of_post = None, total_post=0, disired_date = None):\n",
    "    post_element = driver.find_elements(By.CSS_SELECTOR, 'div._aabd')\n",
    "    date_loop = disired_date\n",
    "    if (no_of_post == 'all' or no_of_post == -1) and disired_date == None:\n",
    "        loop = total_post\n",
    "        no_of_post = total_post\n",
    "    elif no_of_post == None and disired_date != None:\n",
    "        # Where you entered a date\n",
    "        disired_date = datetime.strptime(disired_date, \"%b %d, %Y\")\n",
    "        loop = 1000\n",
    "        date_loop = True\n",
    "    elif no_of_post == 0:\n",
    "        # Where you entered 0 posts\n",
    "        return \"Please enter a number more than '0'\"\n",
    "    else:\n",
    "        # Where you entered value more than user's posts\n",
    "        loop = min(total_post,no_of_post)\n",
    "    # print(loop, date_loop)\n",
    "    while len(post_element)<=loop or date_loop:\n",
    "        post_element = driver.find_elements(By.CSS_SELECTOR, 'div._aabd')\n",
    "        time.sleep(1)\n",
    "        if disired_date != None:\n",
    "            post_element[-1].click()\n",
    "            for _ in range(3):\n",
    "                try:\n",
    "                    post_date_element = driver.find_element(By.CLASS_NAME, \"_ae2s\").find_element(By.XPATH,'./div[2]/div/div/a/span/time')\n",
    "                    post_date = post_date_element.get_attribute('title')\n",
    "                    post_date = datetime.strptime(post_date, \"%b %d, %Y\")\n",
    "                    break\n",
    "                except NoSuchElementException:\n",
    "                    pass\n",
    "            time.sleep(1)\n",
    "            try:\n",
    "                post_close_element = WebDriverWait(driver, 10).until(EC.presence_of_element_located((By.CSS_SELECTOR, 'svg[aria-label=\"Close\"]')))\n",
    "                post_close_element.click()\n",
    "            except (NoSuchElementException,TimeoutException):\n",
    "                pass\n",
    "            # print(post_date)\n",
    "            if post_date<disired_date:\n",
    "                break\n",
    "        else:\n",
    "            date_loop = None\n",
    "        driver.execute_script('window.scrollBy(0, 500);')\n",
    "\n",
    "    count = 0\n",
    "    for i in post_element:\n",
    "        post_url = caption = like_count = post_date = tagged_person = None\n",
    "\n",
    "        if count == no_of_post:\n",
    "            break\n",
    "\n",
    "        for _ in range(3):\n",
    "            try:\n",
    "                post_url = i.find_element(By.XPATH,'./a').get_attribute('href')\n",
    "                break\n",
    "            except (NoSuchElementException, StaleElementReferenceException ):\n",
    "                pass\n",
    "        i.click()\n",
    "        time.sleep(1)\n",
    "        for _ in range(3):\n",
    "            try:\n",
    "                caption_element = driver.find_element(By.CLASS_NAME, \"_a9zn\").find_element(By.CSS_SELECTOR, 'h1._ap3a')\n",
    "                caption = caption_element.text\n",
    "                break\n",
    "            except NoSuchElementException:\n",
    "                pass\n",
    "        if caption is not None :\n",
    "            captions_lines = caption.splitlines()\n",
    "            captions = [line for line in captions_lines if line.strip() != '']\n",
    "            caption = '\\n'.join(captions)\n",
    "        for _ in range(3):\n",
    "            try:\n",
    "                like_count_element = driver.find_element(By.CLASS_NAME, \"_ae2s\").find_element(By.XPATH,'./section[2]/div/div/span/a/span/span')\n",
    "                like_count = int(like_count_element.text.replace(\",\",\"\"))\n",
    "                break\n",
    "            except NoSuchElementException:\n",
    "                pass\n",
    "        for _ in range(3):\n",
    "            try:\n",
    "                post_date_element = driver.find_element(By.CLASS_NAME, \"_ae2s\").find_element(By.XPATH,'./div[2]/div/div/a/span/time')\n",
    "                post_date = post_date_element.get_attribute('title')\n",
    "                break\n",
    "            except NoSuchElementException:\n",
    "                pass\n",
    "        post_date = datetime.strptime(post_date, \"%b %d, %Y\")\n",
    "        if caption is not None :\n",
    "            words = caption.split()\n",
    "            tagged_list = [word for word in words if word.startswith('@')]\n",
    "            if len(tagged_list) > 0:\n",
    "                tagged_person = ', '.join(tagged_list)\n",
    "        time.sleep(1)\n",
    "        if disired_date != None:\n",
    "            if post_date<disired_date:\n",
    "                break\n",
    "        # print(post_date)\n",
    "        post_df.loc[len(post_df)] = [user_id, post_url, caption, like_count, post_date, tagged_person]\n",
    "        count+=1\n",
    "        try:\n",
    "            post_close_element = WebDriverWait(driver, 10).until(EC.presence_of_element_located((By.CSS_SELECTOR, 'svg[aria-label=\"Close\"]')))\n",
    "            post_close_element.click()\n",
    "        except (NoSuchElementException,TimeoutException):\n",
    "            pass\n",
    "        # print(post_url)\n",
    "        # print(caption)\n",
    "        # print(like_count)\n",
    "        # print(post_date)\n",
    "        # print(type(post_date))\n",
    "        # print(tagged_person)\n",
    "    return post_df"
   ],
   "metadata": {
    "collapsed": false,
    "ExecuteTime": {
     "end_time": "2024-02-16T20:59:51.141552500Z",
     "start_time": "2024-02-16T20:59:51.120405500Z"
    }
   }
  },
  {
   "cell_type": "code",
   "execution_count": 7,
   "outputs": [],
   "source": [
    "def info(driver, profilename, no_of_posts, disired_date):\n",
    "    profiles_df = pd.DataFrame(columns=['Information Extracted Date','UserID', 'UserName', 'Bio', 'Public-Private', 'TotalPost', 'TotalFollowers', 'TotalFollowings', 'Verified'])\n",
    "    post_df = pd.DataFrame(columns=['User ID', 'Post URL', 'Caption', 'No. of Likes','Posted Date', 'All Tagged Name'])\n",
    "    for i in profilename:\n",
    "        status, userid, username = openprofile(driver, i)\n",
    "        confirm_userid = confirm_username = bio = pub_pri =  total_post = total_followers = total_followings = verified = None\n",
    "        time.sleep(2)\n",
    "        driver.refresh()\n",
    "        if status == True:\n",
    "            print(f\"'{i}' is Found Successfully\", end=\" \")\n",
    "            for _ in range(3):\n",
    "                try:\n",
    "                    userid_element = WebDriverWait(driver, 20).until(EC.visibility_of_element_located((By.CSS_SELECTOR, 'h2.x1lliihq')))\n",
    "                    confirm_userid = userid_element.text\n",
    "                    break\n",
    "                except (NoSuchElementException, TimeoutException) :\n",
    "                    pass\n",
    "            for _ in range(3):\n",
    "                try:\n",
    "                    username_element = WebDriverWait(driver, 10).until(EC.presence_of_element_located((By.CSS_SELECTOR, 'div._aa_y')))\n",
    "                    confirm_username = username_element.find_element(By.XPATH, './header/section/div[3]/div/span').text\n",
    "                    break\n",
    "                except (NoSuchElementException, TimeoutException) :\n",
    "                    pass\n",
    "            for _ in range(2):\n",
    "                try:\n",
    "                    verified_element = WebDriverWait(driver, 10).until(EC.presence_of_element_located((By.CSS_SELECTOR, 'svg[aria-label=\"Verified\"]')))\n",
    "                    verified = 'Yes'\n",
    "                    break\n",
    "                except (NoSuchElementException, TimeoutException) :\n",
    "                    verified = 'No'\n",
    "            for _ in range(3):\n",
    "                try:\n",
    "                    private_account_element = WebDriverWait(driver, 10).until(EC.presence_of_element_located((By.CSS_SELECTOR, 'h2._aa_u')))\n",
    "                    private_account =  private_account_element.text\n",
    "                    if private_account == 'This Account is Private':\n",
    "                        pub_pri = 'Private'\n",
    "                        break\n",
    "                except (NoSuchElementException, TimeoutException) :\n",
    "                    pub_pri = 'Public'\n",
    "                    try:\n",
    "                        bio_element_1 = WebDriverWait(driver, 10).until(EC.presence_of_element_located((By.CSS_SELECTOR, 'h1._ap3a')))\n",
    "                        bio_1 = bio_element_1.text\n",
    "                        try:\n",
    "                            bio_element_2 = bio_element_1.find_element(By.XPATH, './br')\n",
    "                            bio_2 = bio_element_2.text\n",
    "                            bio = bio_1 + bio_2\n",
    "                        except (NoSuchElementException, TimeoutException):\n",
    "                            bio = bio_1\n",
    "                    except (NoSuchElementException, TimeoutException):\n",
    "                        bio = \"No Bio\"\n",
    "            for _ in range(3):\n",
    "                try:\n",
    "                    profile_stat = WebDriverWait(driver, 10).until(EC.presence_of_all_elements_located((By.CSS_SELECTOR, 'span._ac2a')))\n",
    "                    total_post = int(profile_stat[0].find_element(By.XPATH, './span').text.replace(',', ''))\n",
    "                    total_followers = int(profile_stat[1].get_attribute('title').replace(',', ''))\n",
    "                    total_followings = int(profile_stat[2].find_element(By.XPATH, './span').text.replace(',', ''))\n",
    "                    break\n",
    "                except (NoSuchElementException, TimeoutException):\n",
    "                    pass\n",
    "            current_datetime = date.today()\n",
    "            profiles_df.loc[len(profiles_df)] = [current_datetime,confirm_userid, confirm_username, bio, pub_pri, total_post, total_followers, total_followings, verified]\n",
    "            print(\"and Profile statistics extracted successfully.\")\n",
    "            if pub_pri=='Public' and total_post > 0:\n",
    "                post_info_dataframe = post_info(driver, confirm_userid, post_df, no_of_posts, total_post, disired_date)\n",
    "                print(f\"Post's Information of '{confirm_userid}' extracted successfully from '{disired_date}' to '{current_datetime}'\")\n",
    "            else:\n",
    "                if total_post == 0:\n",
    "                    post_info_dataframe = 'No Post'\n",
    "                else:\n",
    "                    post_info_dataframe = \"Profile is private, can't see the posts\"\n",
    "        else:\n",
    "            print(f\"'{i}' is not Found\")\n",
    "            profiles_df.loc[len(profiles_df)] = [i, confirm_username, bio, pub_pri, total_post, total_followers, total_followings, verified]\n",
    "        # print(\"id\", confirm_userid)\n",
    "        # print(\"name\", confirm_username)\n",
    "        # print(\"verified\",verified)\n",
    "        # print(\"status\", pub_pri)\n",
    "        # print(\"bio\", bio)\n",
    "        # print(\"totalpost\", total_post)\n",
    "        # print(\"totalfollower\",total_followers)\n",
    "        # print(\"totalfollowing\",total_followings)\n",
    "    return profiles_df, post_info_dataframe"
   ],
   "metadata": {
    "collapsed": false,
    "ExecuteTime": {
     "end_time": "2024-02-16T20:59:51.156529500Z",
     "start_time": "2024-02-16T20:59:51.148552100Z"
    }
   }
  },
  {
   "cell_type": "code",
   "execution_count": 8,
   "outputs": [],
   "source": [
    "def logout(driver):\n",
    "    try:\n",
    "        post_close_element = WebDriverWait(driver, 10).until(EC.presence_of_element_located((By.CSS_SELECTOR, 'svg[aria-label=\"Close\"]')))\n",
    "        post_close_element.click()\n",
    "    except (NoSuchElementException,TimeoutException):\n",
    "        pass\n",
    "    if driver.current_url != 'https://www.instagram.com':\n",
    "        try:\n",
    "            setting_element = WebDriverWait(driver, 10).until(EC.presence_of_element_located((By.CSS_SELECTOR, 'svg[aria-label=\"Settings\"]')))\n",
    "            setting_element.click()\n",
    "            logout_element = WebDriverWait(driver, 10).until(EC.presence_of_element_located((By.CSS_SELECTOR, 'div.xq9evs9'))).find_element(By.XPATH,'./div/div/div/div[6]/div')\n",
    "            logout_element.click()\n",
    "            print(\"Logout Successfully\")\n",
    "        except NoSuchElementException:\n",
    "            pass\n",
    "    else:\n",
    "        print(\"Not Login or already Logout\")"
   ],
   "metadata": {
    "collapsed": false,
    "ExecuteTime": {
     "end_time": "2024-02-16T20:59:51.182254800Z",
     "start_time": "2024-02-16T20:59:51.159530200Z"
    }
   }
  },
  {
   "cell_type": "code",
   "execution_count": 9,
   "outputs": [],
   "source": [
    "def wdclose(driver):\n",
    "    driver.quit()\n",
    "    print(\"Webdriver closed\")"
   ],
   "metadata": {
    "collapsed": false,
    "ExecuteTime": {
     "end_time": "2024-02-16T20:59:51.183255300Z",
     "start_time": "2024-02-16T20:59:51.167328500Z"
    }
   }
  },
  {
   "cell_type": "code",
   "execution_count": 10,
   "outputs": [],
   "source": [
    "def save_to_excel(directory, profiles_info_dataframe, post_info_dataframe, excel_name):\n",
    "    os.chdir(directory)\n",
    "    post_info_dataframe['Posted Date'] = pd.to_datetime(post_info_dataframe['Posted Date'], format='%b %d, %Y')\n",
    "    post_info_dataframe_sorted = post_info_dataframe.sort_values(by=['User ID', 'Posted Date'], ascending=[True, False])\n",
    "    excel_file_name = f'{excel_name}.xlsx'\n",
    "    if os.path.isfile(excel_file_name):\n",
    "        with pd.ExcelWriter(excel_file_name, engine='openpyxl', mode='a', if_sheet_exists='overlay') as writer:\n",
    "            if 'Profile_Information' in writer.book.sheetnames:\n",
    "                profiles_info_dataframe.to_excel(writer, sheet_name='Profile_Information', index=False, header=False, startrow=writer.sheets['Profile_Information'].max_row)\n",
    "            else:\n",
    "                writer.add_sheet('Profile_Information')\n",
    "                profiles_info_dataframe.to_excel(writer, sheet_name='Profile_Information', index=False, header=True)\n",
    "            if isinstance(post_info_dataframe, pd.DataFrame):\n",
    "                if 'Post_Information' in writer.book.sheetnames:\n",
    "                    post_info_dataframe_sorted.to_excel(writer, sheet_name='Post_Information', index=False, header=False, startrow=writer.sheets['Post_Information'].max_row)\n",
    "                else:\n",
    "                    writer.add_sheet('Post_Information')\n",
    "                    post_info_dataframe_sorted.to_excel(writer, sheet_name='Post_Information', index=False, header=True)\n",
    "            else:\n",
    "                print(post_info_dataframe)\n",
    "\n",
    "    else:\n",
    "        with pd.ExcelWriter(excel_file_name, engine='openpyxl') as writer:\n",
    "            profiles_info_dataframe.to_excel(writer, sheet_name='Profile_Information', index=False)\n",
    "            if isinstance(post_info_dataframe, pd.DataFrame):\n",
    "                post_info_dataframe_sorted.to_excel(writer, sheet_name='Post_Information', index=False)\n",
    "            else:\n",
    "                print(post_info_dataframe)"
   ],
   "metadata": {
    "collapsed": false,
    "ExecuteTime": {
     "end_time": "2024-02-16T20:59:51.200255500Z",
     "start_time": "2024-02-16T20:59:51.172492200Z"
    }
   }
  },
  {
   "cell_type": "code",
   "execution_count": 11,
   "outputs": [
    {
     "name": "stdout",
     "output_type": "stream",
     "text": [
      "WebDriver initiate successfully in Headless mode\n",
      "Login Successfully\n",
      "Login Info Save Notification Found and click on Not Now\n",
      "No Turn On Notification Found\n"
     ]
    }
   ],
   "source": [
    "user_name = 'sample'\n",
    "pass_word = 'sample'\n",
    "\n",
    "driver = wdinit(obs=0)\n",
    "login(driver, user_name, pass_word)"
   ],
   "metadata": {
    "collapsed": false,
    "ExecuteTime": {
     "end_time": "2024-02-16T21:00:18.771890Z",
     "start_time": "2024-02-16T20:59:51.187259900Z"
    }
   }
  },
  {
   "cell_type": "code",
   "execution_count": 12,
   "outputs": [
    {
     "name": "stdout",
     "output_type": "stream",
     "text": [
      "'usainbolt' is Found Successfully and Profile statistics extracted successfully.\n",
      "Post's Information of 'usainbolt' extracted successfully from 'Jan 01, 2024' to '2024-02-17'\n",
      "'zuck' is Found Successfully and Profile statistics extracted successfully.\n",
      "Post's Information of 'zuck' extracted successfully from 'Jan 01, 2024' to '2024-02-17'\n",
      "'sachintendulkar' is Found Successfully and Profile statistics extracted successfully.\n",
      "Post's Information of 'sachintendulkar' extracted successfully from 'Jan 01, 2024' to '2024-02-17'\n",
      "'thisisbillgates' is Found Successfully and Profile statistics extracted successfully.\n",
      "Post's Information of 'thisisbillgates' extracted successfully from 'Jan 01, 2024' to '2024-02-17'\n"
     ]
    }
   ],
   "source": [
    "profile_list = ['usainbolt', 'zuck', 'sachintendulkar', 'thisisbillgates']\n",
    "profiles_information, post_information = info(driver, profile_list, None,'Jan 01, 2024')"
   ],
   "metadata": {
    "collapsed": false,
    "ExecuteTime": {
     "end_time": "2024-02-16T21:07:28.544377400Z",
     "start_time": "2024-02-16T21:00:18.771890Z"
    }
   }
  },
  {
   "cell_type": "code",
   "execution_count": 13,
   "outputs": [],
   "source": [
    "location = r\"location\"\n",
    "save_to_excel(location, profiles_information, post_information, 'database')"
   ],
   "metadata": {
    "collapsed": false,
    "ExecuteTime": {
     "end_time": "2024-02-16T21:07:28.797206100Z",
     "start_time": "2024-02-16T21:07:28.529377700Z"
    }
   }
  },
  {
   "cell_type": "code",
   "execution_count": 14,
   "outputs": [
    {
     "name": "stdout",
     "output_type": "stream",
     "text": [
      "'leomessi' is Found Successfully and Profile statistics extracted successfully.\n",
      "Post's Information of 'leomessi' extracted successfully from 'Jan 01, 2024' to '2024-02-17'\n",
      "'cristiano' is Found Successfully and Profile statistics extracted successfully.\n",
      "Post's Information of 'cristiano' extracted successfully from 'Jan 01, 2024' to '2024-02-17'\n"
     ]
    }
   ],
   "source": [
    "profile_list = ['leomessi', 'cristiano']\n",
    "profiles_information, post_information = info(driver, profile_list, None,'Jan 01, 2024')"
   ],
   "metadata": {
    "collapsed": false,
    "ExecuteTime": {
     "end_time": "2024-02-16T21:10:39.845388600Z",
     "start_time": "2024-02-16T21:07:28.800207200Z"
    }
   }
  },
  {
   "cell_type": "code",
   "execution_count": 15,
   "outputs": [],
   "source": [
    "location = r\"location\"\n",
    "save_to_excel(location, profiles_information, post_information, 'database')"
   ],
   "metadata": {
    "collapsed": false,
    "ExecuteTime": {
     "end_time": "2024-02-16T21:10:39.898483700Z",
     "start_time": "2024-02-16T21:10:39.845388600Z"
    }
   }
  },
  {
   "cell_type": "code",
   "execution_count": 16,
   "outputs": [
    {
     "name": "stdout",
     "output_type": "stream",
     "text": [
      "Logout Successfully\n"
     ]
    }
   ],
   "source": [
    "logout(driver)"
   ],
   "metadata": {
    "collapsed": false,
    "ExecuteTime": {
     "end_time": "2024-02-16T21:10:40.672041800Z",
     "start_time": "2024-02-16T21:10:39.888484400Z"
    }
   }
  },
  {
   "cell_type": "code",
   "execution_count": 17,
   "outputs": [
    {
     "name": "stdout",
     "output_type": "stream",
     "text": [
      "Webdriver closed\n"
     ]
    }
   ],
   "source": [
    "wdclose(driver)"
   ],
   "metadata": {
    "collapsed": false,
    "ExecuteTime": {
     "end_time": "2024-02-16T21:10:42.718653Z",
     "start_time": "2024-02-16T21:10:40.672041800Z"
    }
   }
  }
 ],
 "metadata": {
  "kernelspec": {
   "display_name": "Python 3",
   "language": "python",
   "name": "python3"
  },
  "language_info": {
   "codemirror_mode": {
    "name": "ipython",
    "version": 2
   },
   "file_extension": ".py",
   "mimetype": "text/x-python",
   "name": "python",
   "nbconvert_exporter": "python",
   "pygments_lexer": "ipython2",
   "version": "2.7.6"
  }
 },
 "nbformat": 4,
 "nbformat_minor": 0
}
